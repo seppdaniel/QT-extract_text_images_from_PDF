{
 "cells": [
  {
   "cell_type": "markdown",
   "metadata": {},
   "source": [
    "### Quick Tricks 1 - How to extract text and images from a PDF."
   ]
  },
  {
   "cell_type": "code",
   "execution_count": 14,
   "metadata": {},
   "outputs": [],
   "source": [
    "from pikepdf import Pdf, PdfImage\n",
    "\n",
    "archive = Pdf.open(\"ResultadoVale.pdf\")"
   ]
  },
  {
   "cell_type": "code",
   "execution_count": 7,
   "metadata": {},
   "outputs": [
    {
     "name": "stdout",
     "output_type": "stream",
     "text": [
      "<pikepdf._core.ItemsView[str, QPDFObjectHandle] object at 0x00000175419D5670>\n",
      "<pikepdf._core.ItemsView[str, QPDFObjectHandle] object at 0x00000175419D6030>\n",
      "<pikepdf._core.ItemsView[str, QPDFObjectHandle] object at 0x00000175419D5670>\n",
      "<pikepdf._core.ItemsView[str, QPDFObjectHandle] object at 0x00000175419D6030>\n",
      "<pikepdf._core.ItemsView[str, QPDFObjectHandle] object at 0x00000175419FF930>\n",
      "<pikepdf._core.ItemsView[str, QPDFObjectHandle] object at 0x00000175419D6030>\n",
      "<pikepdf._core.ItemsView[str, QPDFObjectHandle] object at 0x00000175419FEFF0>\n",
      "<pikepdf._core.ItemsView[str, QPDFObjectHandle] object at 0x00000175419D6030>\n",
      "<pikepdf._core.ItemsView[str, QPDFObjectHandle] object at 0x00000175419FEFF0>\n",
      "<pikepdf._core.ItemsView[str, QPDFObjectHandle] object at 0x00000175419FF8F0>\n",
      "<pikepdf._core.ItemsView[str, QPDFObjectHandle] object at 0x00000175405AC770>\n",
      "<pikepdf._core.ItemsView[str, QPDFObjectHandle] object at 0x00000175419FEFF0>\n",
      "<pikepdf._core.ItemsView[str, QPDFObjectHandle] object at 0x00000175419FF8F0>\n",
      "<pikepdf._core.ItemsView[str, QPDFObjectHandle] object at 0x00000175419D6030>\n",
      "<pikepdf._core.ItemsView[str, QPDFObjectHandle] object at 0x00000175419FEFF0>\n",
      "<pikepdf._core.ItemsView[str, QPDFObjectHandle] object at 0x00000175419FF8F0>\n"
     ]
    }
   ],
   "source": [
    "for page in archive.pages:\n",
    "    image = page.images.items()\n",
    "    print(image)"
   ]
  },
  {
   "cell_type": "code",
   "execution_count": 24,
   "metadata": {},
   "outputs": [
    {
     "name": "stdout",
     "output_type": "stream",
     "text": [
      "/Image13\n",
      "/Image9\n",
      "/Image29\n",
      "/Image29\n",
      "/Image29\n",
      "/Image29\n",
      "/Image29\n",
      "/Image59\n",
      "/Image29\n",
      "/Image62\n",
      "/Image29\n",
      "/Image29\n",
      "/Image29\n",
      "/Image29\n",
      "/Image29\n",
      "/Image29\n",
      "/Image29\n",
      "/Image29\n"
     ]
    }
   ],
   "source": [
    "for page in archive.pages:\n",
    "    for name, image in page.images.items():\n",
    "        print(name)"
   ]
  },
  {
   "cell_type": "code",
   "execution_count": 32,
   "metadata": {},
   "outputs": [
    {
     "name": "stdout",
     "output_type": "stream",
     "text": [
      "Text and image extraction and saving completed successfully.\n"
     ]
    }
   ],
   "source": [
    "import os\n",
    "import fitz\n",
    "from docx import Document\n",
    "from pikepdf import Pdf, PdfImage\n",
    "\n",
    "# PDF file path\n",
    "pdf_path = \"ResultadoVale.pdf\"\n",
    "\n",
    "# Create the \"textos\" folder if it doesn't exist\n",
    "if not os.path.exists(\"textos\"):\n",
    "    os.makedirs(\"textos\")\n",
    "\n",
    "# Open the PDF with PyMuPDF (fitz)\n",
    "pdf_document = fitz.open(pdf_path)\n",
    "\n",
    "# Initialize a variable to store combined text\n",
    "combined_text = \"\"\n",
    "\n",
    "# Iterate through each page of the PDF\n",
    "for page in pdf_document:\n",
    "    # Extract text from the page\n",
    "    page_text = page.get_text(\"text\")\n",
    "    combined_text += page_text + \"\\n\"  # Add a newline between pages\n",
    "\n",
    "# Define the combined text file name\n",
    "combined_txt_file_name = \"textos/combined_text.txt\"\n",
    "combined_docx_file_name = \"textos/combined_text.docx\"\n",
    "\n",
    "# Save combined text to a TXT file\n",
    "with open(combined_txt_file_name, \"w\", encoding=\"utf-8\") as txt_file:\n",
    "    txt_file.write(combined_text)\n",
    "\n",
    "# Save combined text to a DOCX file\n",
    "doc = Document()\n",
    "doc.add_paragraph(combined_text)\n",
    "doc.save(combined_docx_file_name)\n",
    "\n",
    "# Close the PDF document\n",
    "pdf_document.close()\n",
    "\n",
    "# PDF image extraction\n",
    "archive = Pdf.open(pdf_path)\n",
    "\n",
    "# Create the \"imagens\" folder if it doesn't exist\n",
    "if not os.path.exists(\"imagens\"):\n",
    "    os.makedirs(\"imagens\")\n",
    "\n",
    "# Iterate through each page of the PDF\n",
    "for page in archive.pages:\n",
    "    for name, image in page.images.items():\n",
    "        save_image = PdfImage(image)\n",
    "        save_image.extract_to(fileprefix=f\"imagens/{name}\")\n",
    "\n",
    "# Close the PDF archive\n",
    "archive.close()\n",
    "\n",
    "print(\"Text and image extraction and saving completed successfully.\")\n"
   ]
  },
  {
   "cell_type": "code",
   "execution_count": null,
   "metadata": {},
   "outputs": [],
   "source": []
  }
 ],
 "metadata": {
  "kernelspec": {
   "display_name": "Python 3 (ipykernel)",
   "language": "python",
   "name": "python3"
  },
  "language_info": {
   "codemirror_mode": {
    "name": "ipython",
    "version": 3
   },
   "file_extension": ".py",
   "mimetype": "text/x-python",
   "name": "python",
   "nbconvert_exporter": "python",
   "pygments_lexer": "ipython3",
   "version": "3.11.4"
  }
 },
 "nbformat": 4,
 "nbformat_minor": 4
}
